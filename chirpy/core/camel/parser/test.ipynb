{
 "cells": [
  {
   "cell_type": "code",
   "execution_count": 1,
   "id": "64d19da4",
   "metadata": {},
   "outputs": [],
   "source": [
    "import lark"
   ]
  },
  {
   "cell_type": "code",
   "execution_count": 73,
   "id": "887428cc",
   "metadata": {},
   "outputs": [],
   "source": [
    "from lark import Lark, Transformer, Token, Tree\n"
   ]
  },
  {
   "cell_type": "code",
   "execution_count": null,
   "id": "3f8db4d7",
   "metadata": {},
   "outputs": [],
   "source": [
    "# document: entry_conditions_section? \\\n",
    "#           prompt_section? \\\n",
    "#           continue_conditions_section? \\\n",
    "#           locals_section? \\\n",
    "#           entry_conditions_section? \\\n",
    "#           set_state_section? \\\n",
    "#           subnodes_section \\\n",
    "#           set_state_after_section?\n"
   ]
  },
  {
   "cell_type": "code",
   "execution_count": 85,
   "id": "f4ee87f7",
   "metadata": {},
   "outputs": [],
   "source": [
    "from dataclasses import dataclass"
   ]
  },
  {
   "cell_type": "code",
   "execution_count": 93,
   "id": "c6a81bec",
   "metadata": {},
   "outputs": [],
   "source": [
    "@dataclass\n",
    "class Predicate:\n",
    "    verb : str\n",
    "    variable : str"
   ]
  },
  {
   "cell_type": "code",
   "execution_count": 104,
   "id": "097960c8",
   "metadata": {},
   "outputs": [],
   "source": [
    "@dataclass\n",
    "class Variable:\n",
    "    namespace : str\n",
    "    variable : str"
   ]
  },
  {
   "cell_type": "code",
   "execution_count": 112,
   "id": "30da528c",
   "metadata": {},
   "outputs": [],
   "source": [
    "@dataclass\n",
    "class DerivedCondition:\n",
    "    operator : str\n",
    "    elem1 : \"Any\"\n",
    "    elem2 : \"Any\""
   ]
  },
  {
   "cell_type": "code",
   "execution_count": 132,
   "id": "fd5aaacf",
   "metadata": {},
   "outputs": [],
   "source": [
    "@dataclass\n",
    "class NeuralGeneration:\n",
    "    prefix : str"
   ]
  },
  {
   "cell_type": "code",
   "execution_count": 133,
   "id": "dc698be9",
   "metadata": {},
   "outputs": [],
   "source": [
    "@dataclass\n",
    "class Inflect:\n",
    "    inflect_token : \"NLG\"\n",
    "    inflect_entity : Variable"
   ]
  },
  {
   "cell_type": "code",
   "execution_count": 135,
   "id": "df850b2a",
   "metadata": {},
   "outputs": [],
   "source": [
    "@dataclass\n",
    "class Prompt:\n",
    "    prompt_name : str\n",
    "    condition : \"Any\"\n",
    "    nlg : \"NLG\""
   ]
  },
  {
   "cell_type": "code",
   "execution_count": 138,
   "id": "9991b023",
   "metadata": {},
   "outputs": [],
   "source": [
    "@dataclass\n",
    "class String:\n",
    "    string : str"
   ]
  },
  {
   "cell_type": "code",
   "execution_count": 197,
   "id": "3e5ba3b0",
   "metadata": {},
   "outputs": [],
   "source": [
    "@dataclass\n",
    "class Assignment:\n",
    "    left : \"Any\"\n",
    "    right : \"Any\""
   ]
  },
  {
   "cell_type": "code",
   "execution_count": 226,
   "id": "b8bc7250",
   "metadata": {},
   "outputs": [],
   "source": [
    "@dataclass\n",
    "class NLG:\n",
    "    elems : \"List\""
   ]
  },
  {
   "cell_type": "code",
   "execution_count": 232,
   "id": "be3f6ad9",
   "metadata": {},
   "outputs": [],
   "source": [
    "@dataclass\n",
    "class OneOf:\n",
    "    choices : \"List\""
   ]
  },
  {
   "cell_type": "code",
   "execution_count": 260,
   "id": "b14b2890",
   "metadata": {},
   "outputs": [],
   "source": [
    "@dataclass\n",
    "class Constant:\n",
    "    constant : str"
   ]
  },
  {
   "cell_type": "code",
   "execution_count": 274,
   "id": "31c4f5c1",
   "metadata": {},
   "outputs": [],
   "source": [
    "@dataclass\n",
    "class NLGHelper:\n",
    "    func_name : str\n",
    "    args : \"List[str]\""
   ]
  },
  {
   "cell_type": "code",
   "execution_count": 281,
   "id": "9d916c07",
   "metadata": {},
   "outputs": [],
   "source": [
    "class SupernodeMaker(Transformer):\n",
    "    def variable(self, tok):\n",
    "        return Variable(str(tok[0]), str(tok[1]))\n",
    "    def condition__variable(self, tok):\n",
    "        return self.variable(tok)\n",
    "    def condition__predicate(self, tok):\n",
    "        return Predicate(verb=str(tok[0]), variable=tok[1])\n",
    "    def nlg__variable(self, tok):\n",
    "        return self.variable(tok)\n",
    "\n",
    "    def condition(self, tok):\n",
    "        if isinstance(tok, list):\n",
    "            if len(tok) == 1: return tok[0]\n",
    "            if isinstance(tok[0], Token) and tok[0].type == 'condition__OP':\n",
    "                return tok[1]\n",
    "            # condition \"and\" condition\n",
    "            if isinstance(tok[1], Token) and tok[1] == 'and':\n",
    "                return DerivedCondition('and', tok[0], tok[2])\n",
    "            if isinstance(tok[1], Token) and tok[1] == 'or':\n",
    "                return DerivedCondition('or', tok[0], tok[2])\n",
    "        return tok\n",
    "    \n",
    "    def entry_conditions_section(self, tok):\n",
    "        if len(tok):\n",
    "            return tok[0]\n",
    "        return None\n",
    "    \n",
    "    def nlg__ESCAPED_STRING(self, tok):\n",
    "        return String(str(tok.value)[1:-1])\n",
    "\n",
    "    def nlg__PUNCTUATION(self, tok):\n",
    "        return String(str(tok.value))\n",
    "\n",
    "    def nlg__val(self, tok):\n",
    "        return tok[2]\n",
    "\n",
    "    def nlg__neural_generation(self, tok):\n",
    "        return NeuralGeneration(tok[0])\n",
    "    \n",
    "    def nlg__val(self, tok):\n",
    "        return tok[0]\n",
    "    \n",
    "    def nlg__one_of(self, tok):\n",
    "        return OneOf(tok[1])\n",
    "    \n",
    "    def nlg__constant(self, tok):\n",
    "        return Constant(tok[0].value)\n",
    "    \n",
    "    def nlg__inflect(self, tok):\n",
    "        return tok[0]\n",
    "    \n",
    "    def nlg__STRING(self, tok):\n",
    "        return tok\n",
    "    \n",
    "    def nlg__helper(self, tok):\n",
    "        func_name = tok[0].value\n",
    "        args = tok[1:]\n",
    "        return NLGHelper(func_name, args)\n",
    "    \n",
    "    def nlg(self, tok):\n",
    "        if isinstance(tok, list):\n",
    "            if len(tok) == 1: return tok[0]\n",
    "            return tok\n",
    "        return NLG(tok)\n",
    "    \n",
    "    def prompt(self, tok):\n",
    "        if len(tok) == 3:\n",
    "            prompt_name, condition, nlg = tok\n",
    "        else:\n",
    "            prompt_name, nlg = tok\n",
    "            condition = None\n",
    "        return Prompt(prompt_name.value, condition, nlg)\n",
    "    \n",
    "    def prompt_section(self, tok):\n",
    "        return {\"Prompts\": tok}\n",
    "\n",
    "    def continue_conditions_section(self, tok):\n",
    "        return tok\n",
    "        \n",
    "    def assignment(self, tok):\n",
    "        return Assignment(tok[0], tok[1])\n",
    "        \n",
    "    def locals_section(self, tok):\n",
    "        return {\"Locals\": tok}\n",
    "    def set_state_section(self, tok):\n",
    "        return {\"Set_State\": tok}\n",
    "    def subnodes_section(self, tok):\n",
    "        return {\"Subnodes Section\": tok}\n",
    "    def set_state_after_section(self, tok):\n",
    "        return {\"Set State After\": tok}\n",
    "\n",
    "    def document(self, tok):\n",
    "        for x in tok:\n",
    "            print(x)\n",
    "        return tok"
   ]
  },
  {
   "cell_type": "code",
   "execution_count": 282,
   "id": "b9456cdd",
   "metadata": {},
   "outputs": [
    {
     "name": "stdout",
     "output_type": "stream",
     "text": [
      "DerivedCondition(operator='and', elem1=Predicate(verb='IS_NONE', variable=Variable(namespace='State', variable='User__FavoriteFood')), elem2=Predicate(verb='IS_NONE', variable=Variable(namespace='State', variable='User__FavoriteFood')))\n",
      "{'Prompts': [Prompt(prompt_name='favorite_food', condition=None, nlg=String(string=\"What's your favorite food?\"))]}\n",
      "[Predicate(verb='IS_TRUE', variable=Variable(namespace='Flags', variable='FOOD__user_mentioned_food'))]\n",
      "{'Locals': [Assignment(left=Variable(namespace='Locals', variable='intro_statement'), right=[OneOf(choices=String(string='Oh yeah')), Variable(namespace='Utilities', variable='cur_entity_talkable_lower'), String(string='is'), OneOf(choices=String(string=\"such an amazing choice. It's one of my favorite foods up here in the cloud.\"))])]}\n",
      "{'Set_State': [Assignment(left=Variable(namespace='State', variable='User__FavoriteFood'), right=Variable(namespace='Utilities', variable='cur_entity')), Assignment(left=Variable(namespace='State', variable='User__FavoriteFoodTalkable'), right=Variable(namespace='Utilities', variable='cur_entity_talkable_lower')), Assignment(left=Variable(namespace='State', variable='User__FavoriteFactoidYear'), right=NLGHelper(func_name='get_food_year', args=[Variable(namespace='Utilities', variable='cur_entity_name')])), Assignment(left=Variable(namespace='State', variable='User__FavoriteFactoidOrigin'), right=NLGHelper(func_name='get_food_origin', args=[Variable(namespace='Utilities', variable='cur_entity_name')])), Assignment(left=Variable(namespace='State', variable='User__FavoriteFactoidIngredient'), right=NLGHelper(func_name='get_food_ingredient', args=[Variable(namespace='Utilities', variable='cur_entity_name')])), Assignment(left=Variable(namespace='State', variable='User__FavoriteFactoidIngredientOf'), right=NLGHelper(func_name='get_food_ingredient_of', args=[Variable(namespace='Utilities', variable='cur_entity_name')])), Assignment(left=Variable(namespace='State', variable='User__FavoriteFoodTexture'), right=NLGHelper(func_name='get_food_texture', args=[Variable(namespace='Utilities', variable='cur_entity_name')]))]}\n",
      "{'Subnodes Section': [Tree(Token('RULE', 'subnode'), [Token('SUBNODE_NAME', 'Subnode make_ingredient_attribute_comment'), Predicate(verb='IS_NOT_NONE', variable=Variable(namespace='State', variable='User__FavoriteFoodIngredient')), [Variable(namespace='Locals', variable='intro_statement'), String(string='Personally, I especially like the'), Variable(namespace='State', variable='User__FavoriteFoodIngredient'), String(string=','), String(string='I think it gives'), String(string='them'), String(string='a really nice flavor.')]]), Tree(Token('RULE', 'subnode'), [Token('SUBNODE_NAME', 'Subnode default'), [Variable(namespace='Locals', variable='intro_statement'), NeuralGeneration(prefix=[String(string='I especially love how'), String(string=\"it's\")])]])]}\n",
      "{'Set State After': [Assignment(left=Variable(namespace='Flags', variable='GlobalFlag__LastBotTurnWasOpenEnded'), right=Constant(constant='True'))]}\n",
      "[DerivedCondition(operator='and', elem1=Predicate(verb='IS_NONE', variable=Variable(namespace='State', variable='User__FavoriteFood')), elem2=Predicate(verb='IS_NONE', variable=Variable(namespace='State', variable='User__FavoriteFood'))), {'Prompts': [Prompt(prompt_name='favorite_food', condition=None, nlg=String(string=\"What's your favorite food?\"))]}, [Predicate(verb='IS_TRUE', variable=Variable(namespace='Flags', variable='FOOD__user_mentioned_food'))], {'Locals': [Assignment(left=Variable(namespace='Locals', variable='intro_statement'), right=[OneOf(choices=String(string='Oh yeah')), Variable(namespace='Utilities', variable='cur_entity_talkable_lower'), String(string='is'), OneOf(choices=String(string=\"such an amazing choice. It's one of my favorite foods up here in the cloud.\"))])]}, {'Set_State': [Assignment(left=Variable(namespace='State', variable='User__FavoriteFood'), right=Variable(namespace='Utilities', variable='cur_entity')), Assignment(left=Variable(namespace='State', variable='User__FavoriteFoodTalkable'), right=Variable(namespace='Utilities', variable='cur_entity_talkable_lower')), Assignment(left=Variable(namespace='State', variable='User__FavoriteFactoidYear'), right=NLGHelper(func_name='get_food_year', args=[Variable(namespace='Utilities', variable='cur_entity_name')])), Assignment(left=Variable(namespace='State', variable='User__FavoriteFactoidOrigin'), right=NLGHelper(func_name='get_food_origin', args=[Variable(namespace='Utilities', variable='cur_entity_name')])), Assignment(left=Variable(namespace='State', variable='User__FavoriteFactoidIngredient'), right=NLGHelper(func_name='get_food_ingredient', args=[Variable(namespace='Utilities', variable='cur_entity_name')])), Assignment(left=Variable(namespace='State', variable='User__FavoriteFactoidIngredientOf'), right=NLGHelper(func_name='get_food_ingredient_of', args=[Variable(namespace='Utilities', variable='cur_entity_name')])), Assignment(left=Variable(namespace='State', variable='User__FavoriteFoodTexture'), right=NLGHelper(func_name='get_food_texture', args=[Variable(namespace='Utilities', variable='cur_entity_name')]))]}, {'Subnodes Section': [Tree(Token('RULE', 'subnode'), [Token('SUBNODE_NAME', 'Subnode make_ingredient_attribute_comment'), Predicate(verb='IS_NOT_NONE', variable=Variable(namespace='State', variable='User__FavoriteFoodIngredient')), [Variable(namespace='Locals', variable='intro_statement'), String(string='Personally, I especially like the'), Variable(namespace='State', variable='User__FavoriteFoodIngredient'), String(string=','), String(string='I think it gives'), String(string='them'), String(string='a really nice flavor.')]]), Tree(Token('RULE', 'subnode'), [Token('SUBNODE_NAME', 'Subnode default'), [Variable(namespace='Locals', variable='intro_statement'), NeuralGeneration(prefix=[String(string='I especially love how'), String(string=\"it's\")])]])]}, {'Set State After': [Assignment(left=Variable(namespace='Flags', variable='GlobalFlag__LastBotTurnWasOpenEnded'), right=Constant(constant='True'))]}]\n"
     ]
    }
   ],
   "source": [
    "with open('grammar.lark', 'r') as f:\n",
    "    grammar = f.read()\n",
    "#print(grammar)\n",
    "json_parser = Lark(grammar, start='document', parser='lalr', transformer=SupernodeMaker())\n",
    "with open('test1.camel', 'r') as f:\n",
    "    text = f.read()\n",
    "tree = json_parser.parse(text)\n",
    "#print(json.dumps(tree, indent=2, default=str))\n",
    "print(tree)"
   ]
  },
  {
   "cell_type": "code",
   "execution_count": 213,
   "id": "2ae58046",
   "metadata": {},
   "outputs": [
    {
     "data": {
      "text/plain": [
       "[DerivedCondition(operator='and', elem1=Predicate(verb='IS_NONE', variable=Variable(namespace='State', variable='User__FavoriteFood')), elem2=Predicate(verb='IS_NONE', variable=Variable(namespace='State', variable='User__FavoriteFood'))),\n",
       " {'Prompts': [Prompt(prompt_name='Prompt favorite_food', condition=None, nlg=String(string=\"What's your favorite food?\"))]},\n",
       " [Predicate(verb='IS_TRUE', variable=Variable(namespace='Flags', variable='FOOD__user_mentioned_food'))],\n",
       " 'locals_section',\n",
       " 'set_state_section',\n",
       " 'subnodes_section',\n",
       " 'set_state_after_section']"
      ]
     },
     "execution_count": 213,
     "metadata": {},
     "output_type": "execute_result"
    }
   ],
   "source": [
    "tree"
   ]
  },
  {
   "cell_type": "code",
   "execution_count": 10,
   "id": "7f98d18e",
   "metadata": {},
   "outputs": [
    {
     "data": {
      "text/plain": [
       "Tree(Token('RULE', 'document'), [Tree(Token('RULE', 'entry_conditions_section'), [Tree(Token('RULE', 'condition'), [Tree('condition__predicate', [Token('condition__PREDICATE', 'IS_NONE'), Token('condition__OP', '('), Tree('condition__variable', [Token('condition__utils__NAMESPACE', 'State'), Token('condition__PARAM_ARG_VALUE', 'User__FavoriteFood')]), Token('condition__CP', ')')])])]), Tree(Token('RULE', 'prompt_section'), [Tree(Token('RULE', 'prompt'), [Token('PROMPT_NAME', 'Prompt favorite_food'), Token('OB', '['), Token('CB', ']'), Tree(Token('RULE', 'nlg'), [Tree(Token('RULE', 'nlg'), [Token('nlg__ESCAPED_STRING', '\"What\\'s your favorite food?\"')])])])]), Tree(Token('RULE', 'continue_conditions_section'), [Tree(Token('RULE', 'condition'), [Tree('condition__predicate', [Token('condition__PREDICATE', 'IS_TRUE'), Token('condition__OP', '('), Tree('condition__variable', [Token('condition__utils__NAMESPACE', 'Flags'), Token('condition__PARAM_ARG_VALUE', 'FOOD__user_mentioned_food')]), Token('condition__CP', ')')])])]), Tree(Token('RULE', 'locals_section'), [Tree(Token('RULE', 'assignment'), [Tree(Token('RULE', 'variable'), [Token(Token('TERMINAL', 'NAMESPACE'), 'Locals'), Token(Token('TERMINAL', 'PARAM_ARG_VALUE'), 'intro_statement')]), Tree(Token('RULE', 'nlg'), [Tree(Token('RULE', 'nlg'), [Tree('nlg__one_of', [Token('nlg__OP', '('), Tree(Token('RULE', 'nlg'), [Tree(Token('RULE', 'nlg'), [Token('nlg__ESCAPED_STRING', '\"Ah yes\"')])]), Token('nlg__COMMA', ','), Tree(Token('RULE', 'nlg'), [Tree(Token('RULE', 'nlg'), [Token('nlg__ESCAPED_STRING', '\"Oh yeah\"')])]), Token('nlg__COMMA', ','), Token('nlg__CP', ')')])]), Tree(Token('RULE', 'nlg'), [Tree('nlg__val', [Token('nlg__OP', '('), Tree('nlg__variable', [Token('nlg__utils__NAMESPACE', 'Utilities'), Token('nlg__PARAM_ARG_VALUE', 'cur_entity_talkable_lower')]), Token('nlg__CP', ')')])]), Tree(Token('RULE', 'nlg'), [Tree('nlg__inflect', [Token('nlg__OP', '('), Token('nlg__EQ', '='), Tree(Token('RULE', 'nlg'), [Token('nlg__ESCAPED_STRING', '\"is\"')]), Token('nlg__COMMA', ','), Token('nlg__EQ', '='), Tree('nlg__variable', [Token('nlg__utils__NAMESPACE', 'Utilities'), Token('nlg__PARAM_ARG_VALUE', 'cur_entity')]), Token('nlg__CP', ')')])]), Tree(Token('RULE', 'nlg'), [Tree('nlg__one_of', [Token('nlg__OP', '('), Tree(Token('RULE', 'nlg'), [Token('nlg__ESCAPED_STRING', '\"one of my favorite things to eat up here in the cloud.\"')]), Token('nlg__COMMA', ','), Tree(Token('RULE', 'nlg'), [Token('nlg__ESCAPED_STRING', '\"such an amazing choice. It\\'s one of my favorite foods up here in the cloud.\"')]), Token('nlg__CP', ')')])])])])]), Tree(Token('RULE', 'set_state_section'), [Tree(Token('RULE', 'assignment'), [Tree(Token('RULE', 'variable'), [Token(Token('TERMINAL', 'NAMESPACE'), 'State'), Token(Token('TERMINAL', 'PARAM_ARG_VALUE'), 'User__FavoriteFood')]), Tree(Token('RULE', 'nlg'), [Tree('nlg__val', [Token('nlg__OP', '('), Tree('nlg__variable', [Token('nlg__utils__NAMESPACE', 'Utilities'), Token('nlg__PARAM_ARG_VALUE', 'cur_entity')]), Token('nlg__CP', ')')])])]), Tree(Token('RULE', 'assignment'), [Tree(Token('RULE', 'variable'), [Token(Token('TERMINAL', 'NAMESPACE'), 'State'), Token(Token('TERMINAL', 'PARAM_ARG_VALUE'), 'User__FavoriteFoodTalkable')]), Tree(Token('RULE', 'nlg'), [Tree('nlg__val', [Token('nlg__OP', '('), Tree('nlg__variable', [Token('nlg__utils__NAMESPACE', 'Utilities'), Token('nlg__PARAM_ARG_VALUE', 'cur_entity_talkable_lower')]), Token('nlg__CP', ')')])])]), Tree(Token('RULE', 'assignment'), [Tree(Token('RULE', 'variable'), [Token(Token('TERMINAL', 'NAMESPACE'), 'State'), Token(Token('TERMINAL', 'PARAM_ARG_VALUE'), 'User__FavoriteFactoidYear')]), Tree(Token('RULE', 'nlg'), [Tree('nlg__nlg_helper', [Token('nlg__PERIOD', '.'), Token('nlg__PARAM_ARG_NAME', 'get_food_year'), Token('nlg__OP', '('), Tree(Token('RULE', 'nlg'), [Tree('nlg__val', [Token('nlg__OP', '('), Tree('nlg__variable', [Token('nlg__utils__NAMESPACE', 'Utilities'), Token('nlg__PARAM_ARG_VALUE', 'cur_entity_name')]), Token('nlg__CP', ')')])]), Token('nlg__CP', ')')])])]), Tree(Token('RULE', 'assignment'), [Tree(Token('RULE', 'variable'), [Token(Token('TERMINAL', 'NAMESPACE'), 'State'), Token(Token('TERMINAL', 'PARAM_ARG_VALUE'), 'User__FavoriteFactoidOrigin')]), Tree(Token('RULE', 'nlg'), [Tree('nlg__nlg_helper', [Token('nlg__PERIOD', '.'), Token('nlg__PARAM_ARG_NAME', 'get_food_origin'), Token('nlg__OP', '('), Tree(Token('RULE', 'nlg'), [Tree('nlg__val', [Token('nlg__OP', '('), Tree('nlg__variable', [Token('nlg__utils__NAMESPACE', 'Utilities'), Token('nlg__PARAM_ARG_VALUE', 'cur_entity_name')]), Token('nlg__CP', ')')])]), Token('nlg__CP', ')')])])]), Tree(Token('RULE', 'assignment'), [Tree(Token('RULE', 'variable'), [Token(Token('TERMINAL', 'NAMESPACE'), 'State'), Token(Token('TERMINAL', 'PARAM_ARG_VALUE'), 'User__FavoriteFactoidIngredient')]), Tree(Token('RULE', 'nlg'), [Tree('nlg__nlg_helper', [Token('nlg__PERIOD', '.'), Token('nlg__PARAM_ARG_NAME', 'get_food_ingredient'), Token('nlg__OP', '('), Tree(Token('RULE', 'nlg'), [Tree('nlg__val', [Token('nlg__OP', '('), Tree('nlg__variable', [Token('nlg__utils__NAMESPACE', 'Utilities'), Token('nlg__PARAM_ARG_VALUE', 'cur_entity_name')]), Token('nlg__CP', ')')])]), Token('nlg__CP', ')')])])]), Tree(Token('RULE', 'assignment'), [Tree(Token('RULE', 'variable'), [Token(Token('TERMINAL', 'NAMESPACE'), 'State'), Token(Token('TERMINAL', 'PARAM_ARG_VALUE'), 'User__FavoriteFactoidIngredientOf')]), Tree(Token('RULE', 'nlg'), [Tree('nlg__nlg_helper', [Token('nlg__PERIOD', '.'), Token('nlg__PARAM_ARG_NAME', 'get_food_ingredient_of'), Token('nlg__OP', '('), Tree(Token('RULE', 'nlg'), [Tree('nlg__val', [Token('nlg__OP', '('), Tree('nlg__variable', [Token('nlg__utils__NAMESPACE', 'Utilities'), Token('nlg__PARAM_ARG_VALUE', 'cur_entity_name')]), Token('nlg__CP', ')')])]), Token('nlg__CP', ')')])])]), Tree(Token('RULE', 'assignment'), [Tree(Token('RULE', 'variable'), [Token(Token('TERMINAL', 'NAMESPACE'), 'State'), Token(Token('TERMINAL', 'PARAM_ARG_VALUE'), 'User__FavoriteFoodTexture')]), Tree(Token('RULE', 'nlg'), [Tree('nlg__nlg_helper', [Token('nlg__PERIOD', '.'), Token('nlg__PARAM_ARG_NAME', 'get_food_texture'), Token('nlg__OP', '('), Tree(Token('RULE', 'nlg'), [Tree('nlg__val', [Token('nlg__OP', '('), Tree('nlg__variable', [Token('nlg__utils__NAMESPACE', 'Utilities'), Token('nlg__PARAM_ARG_VALUE', 'cur_entity_name')]), Token('nlg__CP', ')')])]), Token('nlg__CP', ')')])])])]), Tree(Token('RULE', 'subnodes_section'), [Tree(Token('RULE', 'subnode'), [Token('SUBNODE_NAME', 'Subnode make_ingredient_attribute_comment'), Token('OB', '['), Tree(Token('RULE', 'condition'), [Tree('condition__predicate', [Token('condition__PREDICATE', 'IS_NOT_NONE'), Token('condition__OP', '('), Tree('condition__variable', [Token('condition__utils__NAMESPACE', 'State'), Token('condition__PARAM_ARG_VALUE', 'User__FavoriteFoodIngredient')]), Token('condition__CP', ')')])]), Token('CB', ']'), Tree(Token('RULE', 'nlg'), [Tree(Token('RULE', 'nlg'), [Tree('nlg__val', [Token('nlg__OP', '('), Tree('nlg__variable', [Token('nlg__utils__NAMESPACE', 'Locals'), Token('nlg__PARAM_ARG_VALUE', 'intro_statement')]), Token('nlg__CP', ')')])]), Tree(Token('RULE', 'nlg'), [Token('nlg__ESCAPED_STRING', '\"Personally, I especially like the\"')]), Tree(Token('RULE', 'nlg'), [Tree('nlg__val', [Token('nlg__OP', '('), Tree('nlg__variable', [Token('nlg__utils__NAMESPACE', 'State'), Token('nlg__PARAM_ARG_VALUE', 'User__FavoriteFoodIngredient')]), Token('nlg__CP', ')')])]), Tree(Token('RULE', 'nlg'), [Token('nlg__PUNCTUATION', ',')]), Tree(Token('RULE', 'nlg'), [Token('nlg__ESCAPED_STRING', '\"I think it gives\"')]), Tree(Token('RULE', 'nlg'), [Tree('nlg__inflect', [Token('nlg__OP', '('), Token('nlg__EQ', '='), Tree(Token('RULE', 'nlg'), [Token('nlg__ESCAPED_STRING', '\"them\"')]), Token('nlg__COMMA', ','), Token('nlg__EQ', '='), Tree('nlg__variable', [Token('nlg__utils__NAMESPACE', 'Utilities'), Token('nlg__PARAM_ARG_VALUE', 'cur_entity')]), Token('nlg__CP', ')')])]), Tree(Token('RULE', 'nlg'), [Token('nlg__ESCAPED_STRING', '\"a really nice flavor.\"')])])]), Tree(Token('RULE', 'subnode'), [Token('SUBNODE_NAME', 'Subnode default'), Token('OB', '['), Token('CB', ']'), Tree(Token('RULE', 'nlg'), [Tree(Token('RULE', 'nlg'), [Tree('nlg__val', [Token('nlg__OP', '('), Tree('nlg__variable', [Token('nlg__utils__NAMESPACE', 'Locals'), Token('nlg__PARAM_ARG_VALUE', 'intro_statement')]), Token('nlg__CP', ')')])]), Tree(Token('RULE', 'nlg'), [Tree('nlg__neural_generation', [Token('nlg__OP', '('), Token('nlg__EQ', '='), Tree(Token('RULE', 'nlg'), [Tree(Token('RULE', 'nlg'), [Token('nlg__ESCAPED_STRING', '\"I especially love how\"')]), Tree(Token('RULE', 'nlg'), [Tree('nlg__inflect', [Token('nlg__OP', '('), Token('nlg__EQ', '='), Tree(Token('RULE', 'nlg'), [Token('nlg__ESCAPED_STRING', '\"it\\'s\"')]), Token('nlg__COMMA', ','), Token('nlg__EQ', '='), Tree('nlg__variable', [Token('nlg__utils__NAMESPACE', 'Utilities'), Token('nlg__PARAM_ARG_VALUE', 'cur_entity')]), Token('nlg__CP', ')')])])]), Token('nlg__CP', ')')])])])])]), Tree(Token('RULE', 'set_state_after_section'), [Tree(Token('RULE', 'assignment'), [Tree(Token('RULE', 'variable'), [Token(Token('TERMINAL', 'NAMESPACE'), 'Flags'), Token(Token('TERMINAL', 'PARAM_ARG_VALUE'), 'GlobalFlag__LastBotTurnWasOpenEnded')]), Tree(Token('RULE', 'nlg'), [Tree(Token('RULE', 'nlg'), [Tree('nlg__constant', [Token('nlg__OP', '('), Token('nlg__STRING', 'True'), Token('nlg__CP', ')')])])])])])])"
      ]
     },
     "execution_count": 10,
     "metadata": {},
     "output_type": "execute_result"
    }
   ],
   "source": [
    "tree"
   ]
  },
  {
   "cell_type": "code",
   "execution_count": 204,
   "id": "1b1c242b",
   "metadata": {
    "scrolled": false
   },
   "outputs": [
    {
     "name": "stdout",
     "output_type": "stream",
     "text": [
      "locals [Assignment(left=Variable(namespace='Locals', variable='intro_statement'), right=[Tree('nlg__one_of', [Token('nlg__OP', '('), String(string='Ah yes'), Token('nlg__COMMA', ','), String(string='Oh yeah'), Token('nlg__COMMA', ','), Token('nlg__CP', ')')]), Token('nlg__CP', ')'), Tree('nlg__inflect', [Token('nlg__OP', '('), Token('nlg__EQ', '='), String(string='is'), Token('nlg__COMMA', ','), Token('nlg__EQ', '='), Variable(namespace='Utilities', variable='cur_entity'), Token('nlg__CP', ')')]), Tree('nlg__one_of', [Token('nlg__OP', '('), String(string='one of my favorite things to eat up here in the cloud.'), Token('nlg__COMMA', ','), String(string=\"such an amazing choice. It's one of my favorite foods up here in the cloud.\"), Token('nlg__CP', ')')])])]\n",
      "DerivedCondition(operator='and', elem1=Predicate(verb='IS_NONE', variable=Variable(namespace='State', variable='User__FavoriteFood')), elem2=Predicate(verb='IS_NONE', variable=Variable(namespace='State', variable='User__FavoriteFood')))\n",
      "[Prompt(prompt_name='Prompt favorite_food', condition=None, nlg=String(string=\"What's your favorite food?\"))]\n",
      "[Predicate(verb='IS_TRUE', variable=Variable(namespace='Flags', variable='FOOD__user_mentioned_food'))]\n",
      "locals_section\n",
      "set_state_section\n",
      "subnodes_section\n",
      "set_state_after_section\n"
     ]
    },
    {
     "ename": "AttributeError",
     "evalue": "'list' object has no attribute 'pretty'",
     "output_type": "error",
     "traceback": [
      "\u001b[0;31m---------------------------------------------------------------------------\u001b[0m",
      "\u001b[0;31mAttributeError\u001b[0m                            Traceback (most recent call last)",
      "Input \u001b[0;32mIn [204]\u001b[0m, in \u001b[0;36m<cell line: 1>\u001b[0;34m()\u001b[0m\n\u001b[0;32m----> 1\u001b[0m \u001b[38;5;28mprint\u001b[39m(\u001b[43mjson_parser\u001b[49m\u001b[38;5;241;43m.\u001b[39;49m\u001b[43mparse\u001b[49m\u001b[43m(\u001b[49m\u001b[43mtext\u001b[49m\u001b[43m)\u001b[49m\u001b[38;5;241;43m.\u001b[39;49m\u001b[43mpretty\u001b[49m())\n",
      "\u001b[0;31mAttributeError\u001b[0m: 'list' object has no attribute 'pretty'"
     ]
    }
   ],
   "source": [
    "\n",
    "print(json_parser.parse(text).pretty())"
   ]
  },
  {
   "cell_type": "code",
   "execution_count": 88,
   "id": "d736bd18",
   "metadata": {},
   "outputs": [],
   "source": []
  },
  {
   "cell_type": "code",
   "execution_count": 89,
   "id": "2e5e616e",
   "metadata": {},
   "outputs": [
    {
     "name": "stdout",
     "output_type": "stream",
     "text": [
      "document\n",
      "  subnodes\n",
      "    subnode\n",
      "      Subnode::SubnodeName\n",
      "      nlg_generation\n",
      "        nlg_generation\n",
      "          nlg_generation\tHi\n",
      "        nlg_generation\t,\n",
      "        nlg_generation\n",
      "          nlg_generation\tDo you like\n",
      "        nlg_generation\n",
      "          val\tUserFavoriteFood \n",
      "        nlg_generation\t?\n",
      "\n"
     ]
    }
   ],
   "source": [
    "text = \"\"\"\n",
    "Subnode::SubnodeName { \n",
    "    {Hi}\n",
    "    ,\n",
    "    {Do you like}\n",
    "    val ( UserFavoriteFood )\n",
    "    ?\n",
    "}\n",
    "\"\"\"\n",
    "print(json_parser.parse(text).pretty())"
   ]
  },
  {
   "cell_type": "code",
   "execution_count": null,
   "id": "e7555987",
   "metadata": {},
   "outputs": [],
   "source": [
    "              prompts? \n",
    "              entry_state_conditions_takeover? \n",
    "              continue_conditions?\n",
    "              locals?\n",
    "              set_state?\n",
    "              subnodes\n",
    "set_state_after?"
   ]
  },
  {
   "cell_type": "code",
   "execution_count": 60,
   "id": "9b1f6c45",
   "metadata": {},
   "outputs": [],
   "source": []
  },
  {
   "cell_type": "code",
   "execution_count": 61,
   "id": "f175feb6",
   "metadata": {},
   "outputs": [
    {
     "name": "stdout",
     "output_type": "stream",
     "text": [
      "value\n",
      "  nlg_generation_wrap\n",
      "    nlg_generation\n",
      "      nlg_generation\tHi\n",
      "    nlg_generation\t,\n",
      "    \n",
      "    nlg_generation\n",
      "      nlg_generation\tDo you like\n",
      "    nlg_generation\n",
      "      val\tUserFavoriteFood \n",
      "    nlg_generation\t?\n",
      "\n"
     ]
    }
   ],
   "source": []
  },
  {
   "cell_type": "code",
   "execution_count": null,
   "id": "3d733167",
   "metadata": {},
   "outputs": [],
   "source": []
  }
 ],
 "metadata": {
  "kernelspec": {
   "display_name": "Python 3 (ipykernel)",
   "language": "python",
   "name": "python3"
  },
  "language_info": {
   "codemirror_mode": {
    "name": "ipython",
    "version": 3
   },
   "file_extension": ".py",
   "mimetype": "text/x-python",
   "name": "python",
   "nbconvert_exporter": "python",
   "pygments_lexer": "ipython3",
   "version": "3.10.4"
  }
 },
 "nbformat": 4,
 "nbformat_minor": 5
}
